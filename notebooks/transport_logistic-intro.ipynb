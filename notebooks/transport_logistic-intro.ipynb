{
 "cells": [
  {
   "cell_type": "code",
   "execution_count": 13,
   "metadata": {},
   "outputs": [],
   "source": [
    "import sys\n",
    "\n",
    "sys.path.insert(0, \"..\")"
   ]
  },
  {
   "cell_type": "code",
   "execution_count": 14,
   "metadata": {},
   "outputs": [],
   "source": [
    "from transtycoon.entities import Field, Warehouse, Position, Transporter\n",
    "from transtycoon.simulation import OneWayGathering, Simulation\n",
    "from transtycoon.report import plot_objects\n",
    "\n",
    "%matplotlib inline"
   ]
  },
  {
   "cell_type": "code",
   "execution_count": 15,
   "metadata": {},
   "outputs": [],
   "source": [
    "log = True\n",
    "\n",
    "field1 = Field(Position(10, -10), 70, name=\"Field1\")\n",
    "field2 = Field(Position(-5, 20), 70, name=\"Field2\")\n",
    "inter_warehouse = Warehouse(Position(-5, 10))\n",
    "final_warehouse = Warehouse(Position(-20, 0))\n",
    "transporter1 = Transporter(Position(10, 10), speed=1, max_capacity=30, name=\"Field truck 1\", log=log)\n",
    "transporter2 = Transporter(Position(-5, 5), speed=1, max_capacity=30, name=\"Field truck 2\", log=log)\n",
    "transporter3 = Transporter(Position(5, -5), speed=1, max_capacity=50, name=\"Warehouse truck 1\", log=log)"
   ]
  },
  {
   "cell_type": "code",
   "execution_count": 16,
   "metadata": {},
   "outputs": [],
   "source": [
    "field1_to_warehouse_task = OneWayGathering(gather_from=field1, deliver_to=inter_warehouse)\n",
    "field2_to_warehouse_task = OneWayGathering(gather_from=field2, deliver_to=inter_warehouse)\n",
    "warehouse_to_warehouse = OneWayGathering(gather_from=inter_warehouse,\n",
    "                                         deliver_to=final_warehouse,\n",
    "                                         wait_for=[transporter1, transporter2],\n",
    "                                        min_amount=40)\n",
    "\n",
    "transporter1.assign_task_queue([field1_to_warehouse_task, field2_to_warehouse_task])\n",
    "transporter2.assign_task_queue([field2_to_warehouse_task, field1_to_warehouse_task])\n",
    "transporter3.assign_task_queue([warehouse_to_warehouse])"
   ]
  },
  {
   "cell_type": "code",
   "execution_count": 17,
   "metadata": {},
   "outputs": [],
   "source": [
    "animate_objects = {\"warehouses\": [inter_warehouse, final_warehouse],\n",
    "                   \"transports\": [transporter1, transporter2, transporter3],\n",
    "                   \"fields\": [field1, field2]\n",
    "                  }\n",
    "simulation = Simulation(transports=[transporter1, transporter2, transporter3], captured_objects=animate_objects)"
   ]
  },
  {
   "cell_type": "code",
   "execution_count": 19,
   "metadata": {},
   "outputs": [
    {
     "name": "stdout",
     "output_type": "stream",
     "text": [
      "[Time 2, Field truck 1] Moving to the Field1 (70) : position=[10.0, 10.0]  carry=0\n",
      "[Time 2, Field truck 2] Moving to the Field2 (70) : position=[-5.0, -5.0]  carry=0\n",
      "[Time 2, Warehouse truck 1] Moving to the Warehouse (0) : position=[3.9, 3.9]  carry=0\n"
     ]
    },
    {
     "data": {
      "text/plain": [
       "<matplotlib.axes._subplots.AxesSubplot at 0x11391acc0>"
      ]
     },
     "execution_count": 19,
     "metadata": {},
     "output_type": "execute_result"
    },
    {
     "data": {
      "image/png": "[encoded data removed]",
      "text/plain": [
       "<matplotlib.figure.Figure at 0x1134afa90>"
      ]
     },
     "metadata": {},
     "output_type": "display_data"
    }
   ],
   "source": [
    "# Make one turn (cell can be executed multiple times), or in the loop (see cell below)\n",
    "simulation.make_turn()\n",
    "simulation.make_snapshot()[1]"
   ]
  },
  {
   "cell_type": "code",
   "execution_count": 7,
   "metadata": {},
   "outputs": [
    {
     "name": "stdout",
     "output_type": "stream",
     "text": [
      "[Time 1, Field truck 1] Moving to the Field1 (70) : position=[0.7, 0.7]  carry=0\n",
      "[Time 1, Field truck 2] Moving to the Field2 (70) : position=[-0.2, -0.2]  carry=0\n",
      "[Time 1, Warehouse truck 1] Moving to the Warehouse (0) : position=[-0.4, -0.4]  carry=0\n",
      "[Time 2, Field truck 1] Moving to the Field1 (70) : position=[1.4, 1.4]  carry=0\n",
      "[Time 2, Field truck 2] Moving to the Field2 (70) : position=[-0.5, -0.5]  carry=0\n",
      "[Time 2, Warehouse truck 1] Moving to the Warehouse (0) : position=[-0.9, -0.9]  carry=0\n",
      "[Time 3, Field truck 1] Moving to the Field1 (70) : position=[2.1, 2.1]  carry=0\n",
      "[Time 3, Field truck 2] Moving to the Field2 (70) : position=[-0.7, -0.7]  carry=0\n",
      "[Time 3, Warehouse truck 1] Moving to the Warehouse (0) : position=[-1.3, -1.3]  carry=0\n",
      "[Time 4, Field truck 1] Moving to the Field1 (70) : position=[2.8, 2.8]  carry=0\n",
      "[Time 4, Field truck 2] Moving to the Field2 (70) : position=[-1.0, -1.0]  carry=0\n",
      "[Time 4, Warehouse truck 1] Moving to the Warehouse (0) : position=[-1.8, -1.8]  carry=0\n",
      "[Time 5, Field truck 1] Moving to the Field1 (70) : position=[3.5, 3.5]  carry=0\n",
      "[Time 5, Field truck 2] Moving to the Field2 (70) : position=[-1.2, -1.2]  carry=0\n",
      "[Time 5, Warehouse truck 1] Moving to the Warehouse (0) : position=[-2.2, -2.2]  carry=0\n",
      "[Time 6, Field truck 1] Moving to the Field1 (70) : position=[4.2, 4.2]  carry=0\n",
      "[Time 6, Field truck 2] Moving to the Field2 (70) : position=[-1.5, -1.5]  carry=0\n",
      "[Time 6, Warehouse truck 1] Moving to the Warehouse (0) : position=[-2.7, -2.7]  carry=0\n",
      "[Time 7, Field truck 1] Moving to the Field1 (70) : position=[4.9, 4.9]  carry=0\n",
      "[Time 7, Field truck 2] Moving to the Field2 (70) : position=[-1.7, -1.7]  carry=0\n",
      "[Time 7, Warehouse truck 1] Moving to the Warehouse (0) : position=[-3.1, -3.1]  carry=0\n",
      "[Time 8, Field truck 1] Moving to the Field1 (70) : position=[5.7, 5.7]  carry=0\n",
      "[Time 8, Field truck 2] Moving to the Field2 (70) : position=[-1.9, -1.9]  carry=0\n",
      "[Time 8, Warehouse truck 1] Moving to the Warehouse (0) : position=[-3.6, -3.6]  carry=0\n",
      "[Time 9, Field truck 1] Moving to the Field1 (70) : position=[6.4, 6.4]  carry=0\n",
      "[Time 9, Field truck 2] Moving to the Field2 (70) : position=[-2.2, -2.2]  carry=0\n",
      "[Time 9, Warehouse truck 1] Moving to the Warehouse (0) : position=[-4.0, -4.0]  carry=0\n",
      "[Time 10, Field truck 1] Moving to the Field1 (70) : position=[7.1, 7.1]  carry=0\n",
      "[Time 10, Field truck 2] Moving to the Field2 (70) : position=[-2.4, -2.4]  carry=0\n",
      "[Time 10, Warehouse truck 1] Moving to the Warehouse (0) : position=[-4.5, -4.5]  carry=0\n",
      "[Time 11, Field truck 1] Moving to the Field1 (70) : position=[7.8, 7.8]  carry=0\n",
      "[Time 11, Field truck 2] Moving to the Field2 (70) : position=[-2.7, -2.7]  carry=0\n",
      "[Time 11, Warehouse truck 1] Moving to the Warehouse (0) : position=[-4.9, -4.9]  carry=0\n",
      "[Time 12, Field truck 1] Moving to the Field1 (70) : position=[8.5, 8.5]  carry=0\n",
      "[Time 12, Field truck 2] Moving to the Field2 (70) : position=[-2.9, -2.9]  carry=0\n",
      "[Time 12, Warehouse truck 1] Moving to the Warehouse (0) : position=[-5.0, -5.0]  carry=0\n",
      "[Time 13, Field truck 1] Moving to the Field1 (70) : position=[9.2, 9.2]  carry=0\n",
      "[Time 13, Field truck 2] Moving to the Field2 (70) : position=[-3.2, -3.2]  carry=0\n",
      "[Time 13, Warehouse truck 1] Waiting for more resources to gather : position=[-5.0, -5.0]  carry=0  present_cargo=0  min_carg0=40\n",
      "[Time 14, Field truck 1] Moving to the Field1 (70) : position=[9.9, 9.9]  carry=0\n",
      "[Time 14, Field truck 2] Moving to the Field2 (70) : position=[-3.4, -3.4]  carry=0\n",
      "[Time 14, Warehouse truck 1] Waiting for more resources to gather : position=[-5.0, -5.0]  carry=0  present_cargo=0  min_carg0=40\n",
      "[Time 15, Field truck 1] Moving to the Field1 (70) : position=[10.0, 10.0]  carry=0\n",
      "[Time 15, Field truck 2] Moving to the Field2 (70) : position=[-3.6, -3.6]  carry=0\n",
      "[Time 15, Warehouse truck 1] Waiting for more resources to gather : position=[-5.0, -5.0]  carry=0  present_cargo=0  min_carg0=40\n",
      "[Time 16, Field truck 1] Loading : position=[10.0, 10.0]  carry=30\n",
      "[Time 16, Field truck 2] Moving to the Field2 (70) : position=[-3.9, -3.9]  carry=0\n",
      "[Time 16, Warehouse truck 1] Waiting for more resources to gather : position=[-5.0, -5.0]  carry=0  present_cargo=0  min_carg0=40\n",
      "[Time 17, Field truck 1] Moving to the Warehouse (0) : position=[9.4, 9.4]  carry=30\n",
      "[Time 17, Field truck 2] Moving to the Field2 (70) : position=[-4.1, -4.1]  carry=0\n",
      "[Time 17, Warehouse truck 1] Waiting for more resources to gather : position=[-5.0, -5.0]  carry=0  present_cargo=0  min_carg0=40\n",
      "[Time 18, Field truck 1] Moving to the Warehouse (0) : position=[8.8, 8.8]  carry=30\n",
      "[Time 18, Field truck 2] Moving to the Field2 (70) : position=[-4.4, -4.4]  carry=0\n",
      "[Time 18, Warehouse truck 1] Waiting for more resources to gather : position=[-5.0, -5.0]  carry=0  present_cargo=0  min_carg0=40\n",
      "[Time 19, Field truck 1] Moving to the Warehouse (0) : position=[8.2, 8.2]  carry=30\n",
      "[Time 19, Field truck 2] Moving to the Field2 (70) : position=[-4.6, -4.6]  carry=0\n",
      "[Time 19, Warehouse truck 1] Waiting for more resources to gather : position=[-5.0, -5.0]  carry=0  present_cargo=0  min_carg0=40\n",
      "[Time 20, Field truck 1] Moving to the Warehouse (0) : position=[7.6, 7.6]  carry=30\n",
      "[Time 20, Field truck 2] Moving to the Field2 (70) : position=[-4.9, -4.9]  carry=0\n",
      "[Time 20, Warehouse truck 1] Waiting for more resources to gather : position=[-5.0, -5.0]  carry=0  present_cargo=0  min_carg0=40\n",
      "[Time 21, Field truck 1] Moving to the Warehouse (0) : position=[7.0, 7.0]  carry=30\n",
      "[Time 21, Field truck 2] Moving to the Field2 (70) : position=[-5.0, -5.0]  carry=0\n",
      "[Time 21, Warehouse truck 1] Waiting for more resources to gather : position=[-5.0, -5.0]  carry=0  present_cargo=0  min_carg0=40\n",
      "[Time 22, Field truck 1] Moving to the Warehouse (0) : position=[6.4, 6.4]  carry=30\n",
      "[Time 22, Field truck 2] Loading : position=[-5.0, -5.0]  carry=30\n",
      "[Time 22, Warehouse truck 1] Waiting for more resources to gather : position=[-5.0, -5.0]  carry=0  present_cargo=0  min_carg0=40\n",
      "[Time 23, Field truck 1] Moving to the Warehouse (0) : position=[5.8, 5.8]  carry=30\n",
      "[Time 23, Field truck 2] Moving to the Warehouse (0) : position=[-5.0, -5.0]  carry=30\n",
      "[Time 23, Warehouse truck 1] Waiting for more resources to gather : position=[-5.0, -5.0]  carry=0  present_cargo=0  min_carg0=40\n",
      "[Time 24, Field truck 1] Moving to the Warehouse (0) : position=[5.2, 5.2]  carry=30\n",
      "[Time 24, Field truck 2] Moving to the Warehouse (0) : position=[-5.0, -5.0]  carry=30\n",
      "[Time 24, Warehouse truck 1] Waiting for more resources to gather : position=[-5.0, -5.0]  carry=0  present_cargo=0  min_carg0=40\n",
      "[Time 25, Field truck 1] Moving to the Warehouse (0) : position=[4.6, 4.6]  carry=30\n",
      "[Time 25, Field truck 2] Moving to the Warehouse (0) : position=[-5.0, -5.0]  carry=30\n",
      "[Time 25, Warehouse truck 1] Waiting for more resources to gather : position=[-5.0, -5.0]  carry=0  present_cargo=0  min_carg0=40\n",
      "[Time 26, Field truck 1] Moving to the Warehouse (0) : position=[4.0, 4.0]  carry=30\n",
      "[Time 26, Field truck 2] Moving to the Warehouse (0) : position=[-5.0, -5.0]  carry=30\n",
      "[Time 26, Warehouse truck 1] Waiting for more resources to gather : position=[-5.0, -5.0]  carry=0  present_cargo=0  min_carg0=40\n",
      "[Time 27, Field truck 1] Moving to the Warehouse (0) : position=[3.4, 3.4]  carry=30\n",
      "[Time 27, Field truck 2] Moving to the Warehouse (0) : position=[-5.0, -5.0]  carry=30\n",
      "[Time 27, Warehouse truck 1] Waiting for more resources to gather : position=[-5.0, -5.0]  carry=0  present_cargo=0  min_carg0=40\n",
      "[Time 28, Field truck 1] Moving to the Warehouse (0) : position=[2.8, 2.8]  carry=30\n",
      "[Time 28, Field truck 2] Moving to the Warehouse (0) : position=[-5.0, -5.0]  carry=30\n",
      "[Time 28, Warehouse truck 1] Waiting for more resources to gather : position=[-5.0, -5.0]  carry=0  present_cargo=0  min_carg0=40\n",
      "[Time 29, Field truck 1] Moving to the Warehouse (0) : position=[2.2, 2.2]  carry=30\n",
      "[Time 29, Field truck 2] Moving to the Warehouse (0) : position=[-5.0, -5.0]  carry=30\n",
      "[Time 29, Warehouse truck 1] Waiting for more resources to gather : position=[-5.0, -5.0]  carry=0  present_cargo=0  min_carg0=40\n",
      "[Time 30, Field truck 1] Moving to the Warehouse (0) : position=[1.6, 1.6]  carry=30\n",
      "[Time 30, Field truck 2] Moving to the Warehouse (0) : position=[-5.0, -5.0]  carry=30\n"
     ]
    },
    {
     "name": "stdout",
     "output_type": "stream",
     "text": [
      "[Time 30, Warehouse truck 1] Waiting for more resources to gather : position=[-5.0, -5.0]  carry=0  present_cargo=0  min_carg0=40\n",
      "[Time 31, Field truck 1] Moving to the Warehouse (0) : position=[1.0, 1.0]  carry=30\n",
      "[Time 31, Field truck 2] Moving to the Warehouse (0) : position=[-5.0, -5.0]  carry=30\n",
      "[Time 31, Warehouse truck 1] Waiting for more resources to gather : position=[-5.0, -5.0]  carry=0  present_cargo=0  min_carg0=40\n",
      "[Time 32, Field truck 1] Moving to the Warehouse (0) : position=[0.4, 0.4]  carry=30\n",
      "[Time 32, Field truck 2] Moving to the Warehouse (0) : position=[-5.0, -5.0]  carry=30\n",
      "[Time 32, Warehouse truck 1] Waiting for more resources to gather : position=[-5.0, -5.0]  carry=0  present_cargo=0  min_carg0=40\n",
      "[Time 33, Field truck 1] Moving to the Warehouse (0) : position=[-0.2, -0.2]  carry=30\n",
      "[Time 33, Field truck 2] Unloading the cargo : position=[-5.0, -5.0]  carry=0\n",
      "[Time 33, Warehouse truck 1] Waiting for more resources to gather : position=[-5.0, -5.0]  carry=0  present_cargo=30  min_carg0=40\n",
      "[Time 34, Field truck 1] Moving to the Warehouse (30) : position=[-0.8, -0.8]  carry=30\n",
      "[Time 34, Field truck 2] Moving to the Field2 (40) : position=[-5.0, -5.0]  carry=0\n",
      "[Time 34, Warehouse truck 1] Waiting for more resources to gather : position=[-5.0, -5.0]  carry=0  present_cargo=30  min_carg0=40\n",
      "[Time 35, Field truck 1] Moving to the Warehouse (30) : position=[-1.4, -1.4]  carry=30\n",
      "[Time 35, Field truck 2] Moving to the Field2 (40) : position=[-5.0, -5.0]  carry=0\n",
      "[Time 35, Warehouse truck 1] Waiting for more resources to gather : position=[-5.0, -5.0]  carry=0  present_cargo=30  min_carg0=40\n",
      "[Time 36, Field truck 1] Moving to the Warehouse (30) : position=[-2.0, -2.0]  carry=30\n",
      "[Time 36, Field truck 2] Moving to the Field2 (40) : position=[-5.0, -5.0]  carry=0\n",
      "[Time 36, Warehouse truck 1] Waiting for more resources to gather : position=[-5.0, -5.0]  carry=0  present_cargo=30  min_carg0=40\n",
      "[Time 37, Field truck 1] Moving to the Warehouse (30) : position=[-2.6, -2.6]  carry=30\n",
      "[Time 37, Field truck 2] Moving to the Field2 (40) : position=[-5.0, -5.0]  carry=0\n",
      "[Time 37, Warehouse truck 1] Waiting for more resources to gather : position=[-5.0, -5.0]  carry=0  present_cargo=30  min_carg0=40\n",
      "[Time 38, Field truck 1] Moving to the Warehouse (30) : position=[-3.2, -3.2]  carry=30\n",
      "[Time 38, Field truck 2] Moving to the Field2 (40) : position=[-5.0, -5.0]  carry=0\n",
      "[Time 38, Warehouse truck 1] Waiting for more resources to gather : position=[-5.0, -5.0]  carry=0  present_cargo=30  min_carg0=40\n",
      "[Time 39, Field truck 1] Moving to the Warehouse (30) : position=[-3.8, -3.8]  carry=30\n",
      "[Time 39, Field truck 2] Moving to the Field2 (40) : position=[-5.0, -5.0]  carry=0\n",
      "[Time 39, Warehouse truck 1] Waiting for more resources to gather : position=[-5.0, -5.0]  carry=0  present_cargo=30  min_carg0=40\n",
      "[Time 40, Field truck 1] Moving to the Warehouse (30) : position=[-4.4, -4.4]  carry=30\n",
      "[Time 40, Field truck 2] Moving to the Field2 (40) : position=[-5.0, -5.0]  carry=0\n",
      "[Time 40, Warehouse truck 1] Waiting for more resources to gather : position=[-5.0, -5.0]  carry=0  present_cargo=30  min_carg0=40\n",
      "[Time 41, Field truck 1] Moving to the Warehouse (30) : position=[-5.0, -5.0]  carry=30\n",
      "[Time 41, Field truck 2] Moving to the Field2 (40) : position=[-5.0, -5.0]  carry=0\n",
      "[Time 41, Warehouse truck 1] Waiting for more resources to gather : position=[-5.0, -5.0]  carry=0  present_cargo=30  min_carg0=40\n",
      "[Time 42, Field truck 1] Unloading the cargo : position=[-5.0, -5.0]  carry=0\n",
      "[Time 42, Field truck 2] Moving to the Field2 (40) : position=[-5.0, -5.0]  carry=0\n",
      "[Time 42, Warehouse truck 1] Loading : position=[-5.0, -5.0]  carry=50\n",
      "[Time 43, Field truck 1] Moving to the Field1 (40) : position=[-4.4, -4.4]  carry=0\n",
      "[Time 43, Field truck 2] Moving to the Field2 (40) : position=[-5.0, -5.0]  carry=0\n",
      "[Time 43, Warehouse truck 1] Moving to the Warehouse (0) : position=[-5.8, -5.8]  carry=50\n",
      "[Time 44, Field truck 1] Moving to the Field1 (40) : position=[-3.8, -3.8]  carry=0\n",
      "[Time 44, Field truck 2] Loading : position=[-5.0, -5.0]  carry=30\n",
      "[Time 44, Warehouse truck 1] Moving to the Warehouse (0) : position=[-6.7, -6.7]  carry=50\n",
      "[Time 45, Field truck 1] Moving to the Field1 (40) : position=[-3.2, -3.2]  carry=0\n",
      "[Time 45, Field truck 2] Moving to the Warehouse (10) : position=[-5.0, -5.0]  carry=30\n",
      "[Time 45, Warehouse truck 1] Moving to the Warehouse (0) : position=[-7.5, -7.5]  carry=50\n",
      "[Time 46, Field truck 1] Moving to the Field1 (40) : position=[-2.6, -2.6]  carry=0\n",
      "[Time 46, Field truck 2] Moving to the Warehouse (10) : position=[-5.0, -5.0]  carry=30\n",
      "[Time 46, Warehouse truck 1] Moving to the Warehouse (0) : position=[-8.3, -8.3]  carry=50\n",
      "[Time 47, Field truck 1] Moving to the Field1 (40) : position=[-2.0, -2.0]  carry=0\n",
      "[Time 47, Field truck 2] Moving to the Warehouse (10) : position=[-5.0, -5.0]  carry=30\n",
      "[Time 47, Warehouse truck 1] Moving to the Warehouse (0) : position=[-9.2, -9.2]  carry=50\n",
      "[Time 48, Field truck 1] Moving to the Field1 (40) : position=[-1.4, -1.4]  carry=0\n",
      "[Time 48, Field truck 2] Moving to the Warehouse (10) : position=[-5.0, -5.0]  carry=30\n",
      "[Time 48, Warehouse truck 1] Moving to the Warehouse (0) : position=[-10.0, -10.0]  carry=50\n",
      "[Time 49, Field truck 1] Moving to the Field1 (40) : position=[-0.8, -0.8]  carry=0\n",
      "[Time 49, Field truck 2] Moving to the Warehouse (10) : position=[-5.0, -5.0]  carry=30\n",
      "[Time 49, Warehouse truck 1] Moving to the Warehouse (0) : position=[-10.8, -10.8]  carry=50\n",
      "[Time 50, Field truck 1] Moving to the Field1 (40) : position=[-0.2, -0.2]  carry=0\n",
      "[Time 50, Field truck 2] Moving to the Warehouse (10) : position=[-5.0, -5.0]  carry=30\n",
      "[Time 50, Warehouse truck 1] Moving to the Warehouse (0) : position=[-11.7, -11.7]  carry=50\n",
      "[Time 51, Field truck 1] Moving to the Field1 (40) : position=[0.4, 0.4]  carry=0\n",
      "[Time 51, Field truck 2] Moving to the Warehouse (10) : position=[-5.0, -5.0]  carry=30\n",
      "[Time 51, Warehouse truck 1] Moving to the Warehouse (0) : position=[-12.5, -12.5]  carry=50\n",
      "[Time 52, Field truck 1] Moving to the Field1 (40) : position=[1.0, 1.0]  carry=0\n",
      "[Time 52, Field truck 2] Moving to the Warehouse (10) : position=[-5.0, -5.0]  carry=30\n",
      "[Time 52, Warehouse truck 1] Moving to the Warehouse (0) : position=[-13.3, -13.3]  carry=50\n",
      "[Time 53, Field truck 1] Moving to the Field1 (40) : position=[1.6, 1.6]  carry=0\n",
      "[Time 53, Field truck 2] Moving to the Warehouse (10) : position=[-5.0, -5.0]  carry=30\n",
      "[Time 53, Warehouse truck 1] Moving to the Warehouse (0) : position=[-14.2, -14.2]  carry=50\n",
      "[Time 54, Field truck 1] Moving to the Field1 (40) : position=[2.2, 2.2]  carry=0\n",
      "[Time 54, Field truck 2] Moving to the Warehouse (10) : position=[-5.0, -5.0]  carry=30\n",
      "[Time 54, Warehouse truck 1] Moving to the Warehouse (0) : position=[-15.0, -15.0]  carry=50\n",
      "[Time 55, Field truck 1] Moving to the Field1 (40) : position=[2.8, 2.8]  carry=0\n",
      "[Time 55, Field truck 2] Unloading the cargo : position=[-5.0, -5.0]  carry=0\n",
      "[Time 55, Warehouse truck 1] Moving to the Warehouse (0) : position=[-15.8, -15.8]  carry=50\n",
      "[Time 56, Field truck 1] Moving to the Field1 (40) : position=[3.4, 3.4]  carry=0\n",
      "[Time 56, Field truck 2] Moving to the Field2 (10) : position=[-5.0, -5.0]  carry=0\n",
      "[Time 56, Warehouse truck 1] Moving to the Warehouse (0) : position=[-16.6, -16.6]  carry=50\n",
      "[Time 57, Field truck 1] Moving to the Field1 (40) : position=[4.0, 4.0]  carry=0\n",
      "[Time 57, Field truck 2] Moving to the Field2 (10) : position=[-5.0, -5.0]  carry=0\n",
      "[Time 57, Warehouse truck 1] Moving to the Warehouse (0) : position=[-17.5, -17.5]  carry=50\n",
      "[Time 58, Field truck 1] Moving to the Field1 (40) : position=[4.6, 4.6]  carry=0\n",
      "[Time 58, Field truck 2] Moving to the Field2 (10) : position=[-5.0, -5.0]  carry=0\n",
      "[Time 58, Warehouse truck 1] Moving to the Warehouse (0) : position=[-18.3, -18.3]  carry=50\n",
      "[Time 59, Field truck 1] Moving to the Field1 (40) : position=[5.2, 5.2]  carry=0\n",
      "[Time 59, Field truck 2] Moving to the Field2 (10) : position=[-5.0, -5.0]  carry=0\n",
      "[Time 59, Warehouse truck 1] Moving to the Warehouse (0) : position=[-19.1, -19.1]  carry=50\n",
      "[Time 60, Field truck 1] Moving to the Field1 (40) : position=[5.8, 5.8]  carry=0\n"
     ]
    },
    {
     "name": "stdout",
     "output_type": "stream",
     "text": [
      "[Time 60, Field truck 2] Moving to the Field2 (10) : position=[-5.0, -5.0]  carry=0\n",
      "[Time 60, Warehouse truck 1] Moving to the Warehouse (0) : position=[-20.0, -20.0]  carry=50\n",
      "[Time 61, Field truck 1] Moving to the Field1 (40) : position=[6.4, 6.4]  carry=0\n",
      "[Time 61, Field truck 2] Moving to the Field2 (10) : position=[-5.0, -5.0]  carry=0\n",
      "[Time 61, Warehouse truck 1] Moving to the Warehouse (0) : position=[-20.0, -20.0]  carry=50\n",
      "[Time 62, Field truck 1] Moving to the Field1 (40) : position=[7.0, 7.0]  carry=0\n",
      "[Time 62, Field truck 2] Moving to the Field2 (10) : position=[-5.0, -5.0]  carry=0\n",
      "[Time 62, Warehouse truck 1] Unloading the cargo : position=[-20.0, -20.0]  carry=0\n",
      "[Time 63, Field truck 1] Moving to the Field1 (40) : position=[7.6, 7.6]  carry=0\n",
      "[Time 63, Field truck 2] Moving to the Field2 (10) : position=[-5.0, -5.0]  carry=0\n",
      "[Time 63, Warehouse truck 1] Moving to the Warehouse (40) : position=[-19.2, -19.2]  carry=0\n",
      "[Time 64, Field truck 1] Moving to the Field1 (40) : position=[8.2, 8.2]  carry=0\n",
      "[Time 64, Field truck 2] Moving to the Field2 (10) : position=[-5.0, -5.0]  carry=0\n",
      "[Time 64, Warehouse truck 1] Moving to the Warehouse (40) : position=[-18.3, -18.3]  carry=0\n",
      "[Time 65, Field truck 1] Moving to the Field1 (40) : position=[8.8, 8.8]  carry=0\n",
      "[Time 65, Field truck 2] Moving to the Field2 (10) : position=[-5.0, -5.0]  carry=0\n",
      "[Time 65, Warehouse truck 1] Moving to the Warehouse (40) : position=[-17.5, -17.5]  carry=0\n",
      "[Time 66, Field truck 1] Moving to the Field1 (40) : position=[9.4, 9.4]  carry=0\n",
      "[Time 66, Field truck 2] Loading : position=[-5.0, -5.0]  carry=10\n",
      "[Time 66, Warehouse truck 1] Moving to the Warehouse (40) : position=[-16.7, -16.7]  carry=0\n",
      "[Time 67, Field truck 1] Moving to the Field1 (40) : position=[10.0, 10.0]  carry=0\n",
      "[Time 67, Field truck 2] Moving to the Warehouse (40) : position=[-5.0, -5.0]  carry=10\n",
      "[Time 67, Warehouse truck 1] Moving to the Warehouse (40) : position=[-15.8, -15.8]  carry=0\n",
      "[Time 68, Field truck 1] Loading : position=[10.0, 10.0]  carry=30\n",
      "[Time 68, Field truck 2] Moving to the Warehouse (40) : position=[-5.0, -5.0]  carry=10\n",
      "[Time 68, Warehouse truck 1] Moving to the Warehouse (40) : position=[-15.0, -15.0]  carry=0\n",
      "[Time 69, Field truck 1] Moving to the Warehouse (40) : position=[9.4, 9.4]  carry=30\n",
      "[Time 69, Field truck 2] Moving to the Warehouse (40) : position=[-5.0, -5.0]  carry=10\n",
      "[Time 69, Warehouse truck 1] Moving to the Warehouse (40) : position=[-14.2, -14.2]  carry=0\n",
      "[Time 70, Field truck 1] Moving to the Warehouse (40) : position=[8.8, 8.8]  carry=30\n",
      "[Time 70, Field truck 2] Moving to the Warehouse (40) : position=[-5.0, -5.0]  carry=10\n",
      "[Time 70, Warehouse truck 1] Moving to the Warehouse (40) : position=[-13.3, -13.3]  carry=0\n",
      "[Time 71, Field truck 1] Moving to the Warehouse (40) : position=[8.2, 8.2]  carry=30\n",
      "[Time 71, Field truck 2] Moving to the Warehouse (40) : position=[-5.0, -5.0]  carry=10\n",
      "[Time 71, Warehouse truck 1] Moving to the Warehouse (40) : position=[-12.5, -12.5]  carry=0\n",
      "[Time 72, Field truck 1] Moving to the Warehouse (40) : position=[7.6, 7.6]  carry=30\n",
      "[Time 72, Field truck 2] Moving to the Warehouse (40) : position=[-5.0, -5.0]  carry=10\n",
      "[Time 72, Warehouse truck 1] Moving to the Warehouse (40) : position=[-11.7, -11.7]  carry=0\n",
      "[Time 73, Field truck 1] Moving to the Warehouse (40) : position=[7.0, 7.0]  carry=30\n",
      "[Time 73, Field truck 2] Moving to the Warehouse (40) : position=[-5.0, -5.0]  carry=10\n",
      "[Time 73, Warehouse truck 1] Moving to the Warehouse (40) : position=[-10.8, -10.8]  carry=0\n",
      "[Time 74, Field truck 1] Moving to the Warehouse (40) : position=[6.4, 6.4]  carry=30\n",
      "[Time 74, Field truck 2] Moving to the Warehouse (40) : position=[-5.0, -5.0]  carry=10\n",
      "[Time 74, Warehouse truck 1] Moving to the Warehouse (40) : position=[-10.0, -10.0]  carry=0\n",
      "[Time 75, Field truck 1] Moving to the Warehouse (40) : position=[5.8, 5.8]  carry=30\n",
      "[Time 75, Field truck 2] Moving to the Warehouse (40) : position=[-5.0, -5.0]  carry=10\n",
      "[Time 75, Warehouse truck 1] Moving to the Warehouse (40) : position=[-9.2, -9.2]  carry=0\n",
      "[Time 76, Field truck 1] Moving to the Warehouse (40) : position=[5.2, 5.2]  carry=30\n",
      "[Time 76, Field truck 2] Moving to the Warehouse (40) : position=[-5.0, -5.0]  carry=10\n",
      "[Time 76, Warehouse truck 1] Moving to the Warehouse (40) : position=[-8.4, -8.4]  carry=0\n",
      "[Time 77, Field truck 1] Moving to the Warehouse (40) : position=[4.6, 4.6]  carry=30\n",
      "[Time 77, Field truck 2] Unloading the cargo : position=[-5.0, -5.0]  carry=0\n",
      "[Time 77, Field truck 2] Task completed - nothing more to load 2 : position=[-5.0, -5.0]  carry=10\n",
      "[, Field truck 2] Task is finished : position=[-5.0, -5.0]  finished=1  remaining=1\n",
      "[Time 77, Warehouse truck 1] Moving to the Warehouse (50) : position=[-7.5, -7.5]  carry=0\n",
      "[Time 78, Field truck 1] Moving to the Warehouse (50) : position=[4.0, 4.0]  carry=30\n",
      "[Time 78, Field truck 2] Moving to the Field1 (10) : position=[-4.4, -4.4]  carry=0\n",
      "[Time 78, Warehouse truck 1] Moving to the Warehouse (50) : position=[-6.7, -6.7]  carry=0\n",
      "[Time 79, Field truck 1] Moving to the Warehouse (50) : position=[3.4, 3.4]  carry=30\n",
      "[Time 79, Field truck 2] Moving to the Field1 (10) : position=[-3.8, -3.8]  carry=0\n",
      "[Time 79, Warehouse truck 1] Moving to the Warehouse (50) : position=[-5.9, -5.9]  carry=0\n",
      "[Time 80, Field truck 1] Moving to the Warehouse (50) : position=[2.8, 2.8]  carry=30\n",
      "[Time 80, Field truck 2] Moving to the Field1 (10) : position=[-3.2, -3.2]  carry=0\n",
      "[Time 80, Warehouse truck 1] Moving to the Warehouse (50) : position=[-5.0, -5.0]  carry=0\n",
      "[Time 81, Field truck 1] Moving to the Warehouse (50) : position=[2.2, 2.2]  carry=30\n",
      "[Time 81, Field truck 2] Moving to the Field1 (10) : position=[-2.6, -2.6]  carry=0\n",
      "[Time 81, Warehouse truck 1] Moving to the Warehouse (50) : position=[-5.0, -5.0]  carry=0\n",
      "[Time 82, Field truck 1] Moving to the Warehouse (50) : position=[1.6, 1.6]  carry=30\n",
      "[Time 82, Field truck 2] Moving to the Field1 (10) : position=[-2.0, -2.0]  carry=0\n",
      "[Time 82, Warehouse truck 1] Loading : position=[-5.0, -5.0]  carry=50\n",
      "[Time 83, Field truck 1] Moving to the Warehouse (0) : position=[1.0, 1.0]  carry=30\n",
      "[Time 83, Field truck 2] Moving to the Field1 (10) : position=[-1.4, -1.4]  carry=0\n",
      "[Time 83, Warehouse truck 1] Moving to the Warehouse (50) : position=[-5.8, -5.8]  carry=50\n",
      "[Time 84, Field truck 1] Moving to the Warehouse (0) : position=[0.4, 0.4]  carry=30\n",
      "[Time 84, Field truck 2] Moving to the Field1 (10) : position=[-0.8, -0.8]  carry=0\n",
      "[Time 84, Warehouse truck 1] Moving to the Warehouse (50) : position=[-6.7, -6.7]  carry=50\n",
      "[Time 85, Field truck 1] Moving to the Warehouse (0) : position=[-0.2, -0.2]  carry=30\n",
      "[Time 85, Field truck 2] Moving to the Field1 (10) : position=[-0.2, -0.2]  carry=0\n",
      "[Time 85, Warehouse truck 1] Moving to the Warehouse (50) : position=[-7.5, -7.5]  carry=50\n",
      "[Time 86, Field truck 1] Moving to the Warehouse (0) : position=[-0.8, -0.8]  carry=30\n",
      "[Time 86, Field truck 2] Moving to the Field1 (10) : position=[0.4, 0.4]  carry=0\n",
      "[Time 86, Warehouse truck 1] Moving to the Warehouse (50) : position=[-8.3, -8.3]  carry=50\n",
      "[Time 87, Field truck 1] Moving to the Warehouse (0) : position=[-1.4, -1.4]  carry=30\n",
      "[Time 87, Field truck 2] Moving to the Field1 (10) : position=[1.0, 1.0]  carry=0\n",
      "[Time 87, Warehouse truck 1] Moving to the Warehouse (50) : position=[-9.2, -9.2]  carry=50\n",
      "[Time 88, Field truck 1] Moving to the Warehouse (0) : position=[-2.0, -2.0]  carry=30\n",
      "[Time 88, Field truck 2] Moving to the Field1 (10) : position=[1.6, 1.6]  carry=0\n",
      "[Time 88, Warehouse truck 1] Moving to the Warehouse (50) : position=[-10.0, -10.0]  carry=50\n",
      "[Time 89, Field truck 1] Moving to the Warehouse (0) : position=[-2.6, -2.6]  carry=30\n",
      "[Time 89, Field truck 2] Moving to the Field1 (10) : position=[2.2, 2.2]  carry=0\n",
      "[Time 89, Warehouse truck 1] Moving to the Warehouse (50) : position=[-10.8, -10.8]  carry=50\n",
      "[Time 90, Field truck 1] Moving to the Warehouse (0) : position=[-3.2, -3.2]  carry=30\n",
      "[Time 90, Field truck 2] Moving to the Field1 (10) : position=[2.8, 2.8]  carry=0\n",
      "[Time 90, Warehouse truck 1] Moving to the Warehouse (50) : position=[-11.7, -11.7]  carry=50\n",
      "[Time 91, Field truck 1] Moving to the Warehouse (0) : position=[-3.8, -3.8]  carry=30\n"
     ]
    },
    {
     "name": "stdout",
     "output_type": "stream",
     "text": [
      "[Time 91, Field truck 2] Moving to the Field1 (10) : position=[3.4, 3.4]  carry=0\n",
      "[Time 91, Warehouse truck 1] Moving to the Warehouse (50) : position=[-12.5, -12.5]  carry=50\n",
      "[Time 92, Field truck 1] Moving to the Warehouse (0) : position=[-4.4, -4.4]  carry=30\n",
      "[Time 92, Field truck 2] Moving to the Field1 (10) : position=[4.0, 4.0]  carry=0\n",
      "[Time 92, Warehouse truck 1] Moving to the Warehouse (50) : position=[-13.3, -13.3]  carry=50\n",
      "[Time 93, Field truck 1] Moving to the Warehouse (0) : position=[-5.0, -5.0]  carry=30\n",
      "[Time 93, Field truck 2] Moving to the Field1 (10) : position=[4.6, 4.6]  carry=0\n",
      "[Time 93, Warehouse truck 1] Moving to the Warehouse (50) : position=[-14.2, -14.2]  carry=50\n",
      "[Time 94, Field truck 1] Unloading the cargo : position=[-5.0, -5.0]  carry=0\n",
      "[Time 94, Field truck 2] Moving to the Field1 (10) : position=[5.2, 5.2]  carry=0\n",
      "[Time 94, Warehouse truck 1] Moving to the Warehouse (50) : position=[-15.0, -15.0]  carry=50\n",
      "[Time 95, Field truck 1] Moving to the Field1 (10) : position=[-4.4, -4.4]  carry=0\n",
      "[Time 95, Field truck 2] Moving to the Field1 (10) : position=[5.8, 5.8]  carry=0\n",
      "[Time 95, Warehouse truck 1] Moving to the Warehouse (50) : position=[-15.8, -15.8]  carry=50\n",
      "[Time 96, Field truck 1] Moving to the Field1 (10) : position=[-3.8, -3.8]  carry=0\n",
      "[Time 96, Field truck 2] Moving to the Field1 (10) : position=[6.4, 6.4]  carry=0\n",
      "[Time 96, Warehouse truck 1] Moving to the Warehouse (50) : position=[-16.6, -16.6]  carry=50\n",
      "[Time 97, Field truck 1] Moving to the Field1 (10) : position=[-3.2, -3.2]  carry=0\n",
      "[Time 97, Field truck 2] Moving to the Field1 (10) : position=[7.0, 7.0]  carry=0\n",
      "[Time 97, Warehouse truck 1] Moving to the Warehouse (50) : position=[-17.5, -17.5]  carry=50\n",
      "[Time 98, Field truck 1] Moving to the Field1 (10) : position=[-2.6, -2.6]  carry=0\n",
      "[Time 98, Field truck 2] Moving to the Field1 (10) : position=[7.6, 7.6]  carry=0\n",
      "[Time 98, Warehouse truck 1] Moving to the Warehouse (50) : position=[-18.3, -18.3]  carry=50\n",
      "[Time 99, Field truck 1] Moving to the Field1 (10) : position=[-2.0, -2.0]  carry=0\n",
      "[Time 99, Field truck 2] Moving to the Field1 (10) : position=[8.2, 8.2]  carry=0\n",
      "[Time 99, Warehouse truck 1] Moving to the Warehouse (50) : position=[-19.1, -19.1]  carry=50\n",
      "[Time 100, Field truck 1] Moving to the Field1 (10) : position=[-1.4, -1.4]  carry=0\n",
      "[Time 100, Field truck 2] Moving to the Field1 (10) : position=[8.8, 8.8]  carry=0\n",
      "[Time 100, Warehouse truck 1] Moving to the Warehouse (50) : position=[-20.0, -20.0]  carry=50\n",
      "[Time 101, Field truck 1] Moving to the Field1 (10) : position=[-0.8, -0.8]  carry=0\n",
      "[Time 101, Field truck 2] Moving to the Field1 (10) : position=[9.4, 9.4]  carry=0\n",
      "[Time 101, Warehouse truck 1] Moving to the Warehouse (50) : position=[-20.0, -20.0]  carry=50\n",
      "[Time 102, Field truck 1] Moving to the Field1 (10) : position=[-0.2, -0.2]  carry=0\n",
      "[Time 102, Field truck 2] Moving to the Field1 (10) : position=[10.0, 10.0]  carry=0\n",
      "[Time 102, Warehouse truck 1] Unloading the cargo : position=[-20.0, -20.0]  carry=0\n",
      "[Time 103, Field truck 1] Moving to the Field1 (10) : position=[0.4, 0.4]  carry=0\n",
      "[Time 103, Field truck 2] Loading : position=[10.0, 10.0]  carry=10\n",
      "[Time 103, Warehouse truck 1] Moving to the Warehouse (30) : position=[-19.2, -19.2]  carry=0\n",
      "[Time 104, Field truck 1] Moving to the Field1 (0) : position=[1.0, 1.0]  carry=0\n",
      "[Time 104, Field truck 2] Moving to the Warehouse (30) : position=[9.4, 9.4]  carry=10\n",
      "[Time 104, Warehouse truck 1] Moving to the Warehouse (30) : position=[-18.3, -18.3]  carry=0\n",
      "[Time 105, Field truck 1] Moving to the Field1 (0) : position=[1.6, 1.6]  carry=0\n",
      "[Time 105, Field truck 2] Moving to the Warehouse (30) : position=[8.8, 8.8]  carry=10\n",
      "[Time 105, Warehouse truck 1] Moving to the Warehouse (30) : position=[-17.5, -17.5]  carry=0\n",
      "[Time 106, Field truck 1] Moving to the Field1 (0) : position=[2.2, 2.2]  carry=0\n",
      "[Time 106, Field truck 2] Moving to the Warehouse (30) : position=[8.2, 8.2]  carry=10\n",
      "[Time 106, Warehouse truck 1] Moving to the Warehouse (30) : position=[-16.7, -16.7]  carry=0\n",
      "[Time 107, Field truck 1] Moving to the Field1 (0) : position=[2.8, 2.8]  carry=0\n",
      "[Time 107, Field truck 2] Moving to the Warehouse (30) : position=[7.6, 7.6]  carry=10\n",
      "[Time 107, Warehouse truck 1] Moving to the Warehouse (30) : position=[-15.8, -15.8]  carry=0\n",
      "[Time 108, Field truck 1] Moving to the Field1 (0) : position=[3.4, 3.4]  carry=0\n",
      "[Time 108, Field truck 2] Moving to the Warehouse (30) : position=[7.0, 7.0]  carry=10\n",
      "[Time 108, Warehouse truck 1] Moving to the Warehouse (30) : position=[-15.0, -15.0]  carry=0\n",
      "[Time 109, Field truck 1] Moving to the Field1 (0) : position=[4.0, 4.0]  carry=0\n",
      "[Time 109, Field truck 2] Moving to the Warehouse (30) : position=[6.4, 6.4]  carry=10\n",
      "[Time 109, Warehouse truck 1] Moving to the Warehouse (30) : position=[-14.2, -14.2]  carry=0\n",
      "[Time 110, Field truck 1] Moving to the Field1 (0) : position=[4.6, 4.6]  carry=0\n",
      "[Time 110, Field truck 2] Moving to the Warehouse (30) : position=[5.8, 5.8]  carry=10\n",
      "[Time 110, Warehouse truck 1] Moving to the Warehouse (30) : position=[-13.3, -13.3]  carry=0\n",
      "[Time 111, Field truck 1] Moving to the Field1 (0) : position=[5.2, 5.2]  carry=0\n",
      "[Time 111, Field truck 2] Moving to the Warehouse (30) : position=[5.2, 5.2]  carry=10\n",
      "[Time 111, Warehouse truck 1] Moving to the Warehouse (30) : position=[-12.5, -12.5]  carry=0\n",
      "[Time 112, Field truck 1] Moving to the Field1 (0) : position=[5.8, 5.8]  carry=0\n",
      "[Time 112, Field truck 2] Moving to the Warehouse (30) : position=[4.6, 4.6]  carry=10\n",
      "[Time 112, Warehouse truck 1] Moving to the Warehouse (30) : position=[-11.7, -11.7]  carry=0\n",
      "[Time 113, Field truck 1] Moving to the Field1 (0) : position=[6.4, 6.4]  carry=0\n",
      "[Time 113, Field truck 2] Moving to the Warehouse (30) : position=[4.0, 4.0]  carry=10\n",
      "[Time 113, Warehouse truck 1] Moving to the Warehouse (30) : position=[-10.8, -10.8]  carry=0\n",
      "[Time 114, Field truck 1] Moving to the Field1 (0) : position=[7.0, 7.0]  carry=0\n",
      "[Time 114, Field truck 2] Moving to the Warehouse (30) : position=[3.4, 3.4]  carry=10\n",
      "[Time 114, Warehouse truck 1] Moving to the Warehouse (30) : position=[-10.0, -10.0]  carry=0\n",
      "[Time 115, Field truck 1] Moving to the Field1 (0) : position=[7.6, 7.6]  carry=0\n",
      "[Time 115, Field truck 2] Moving to the Warehouse (30) : position=[2.8, 2.8]  carry=10\n",
      "[Time 115, Warehouse truck 1] Moving to the Warehouse (30) : position=[-9.2, -9.2]  carry=0\n",
      "[Time 116, Field truck 1] Moving to the Field1 (0) : position=[8.2, 8.2]  carry=0\n",
      "[Time 116, Field truck 2] Moving to the Warehouse (30) : position=[2.2, 2.2]  carry=10\n",
      "[Time 116, Warehouse truck 1] Moving to the Warehouse (30) : position=[-8.4, -8.4]  carry=0\n",
      "[Time 117, Field truck 1] Moving to the Field1 (0) : position=[8.8, 8.8]  carry=0\n",
      "[Time 117, Field truck 2] Moving to the Warehouse (30) : position=[1.6, 1.6]  carry=10\n",
      "[Time 117, Warehouse truck 1] Moving to the Warehouse (30) : position=[-7.5, -7.5]  carry=0\n",
      "[Time 118, Field truck 1] Moving to the Field1 (0) : position=[9.4, 9.4]  carry=0\n",
      "[Time 118, Field truck 2] Moving to the Warehouse (30) : position=[1.0, 1.0]  carry=10\n",
      "[Time 118, Warehouse truck 1] Moving to the Warehouse (30) : position=[-6.7, -6.7]  carry=0\n",
      "[Time 119, Field truck 1] Moving to the Field1 (0) : position=[10.0, 10.0]  carry=0\n",
      "[Time 119, Field truck 2] Moving to the Warehouse (30) : position=[0.4, 0.4]  carry=10\n",
      "[Time 119, Warehouse truck 1] Moving to the Warehouse (30) : position=[-5.9, -5.9]  carry=0\n",
      "[Time 120, Field truck 1] Task completed - nothing more to load 1 : position=[10.0, 10.0]  carry=0\n",
      "[, Field truck 1] Task is finished : position=[10.0, 10.0]  finished=1  remaining=1\n",
      "[, Field truck 1] Task is finished : position=[10.0, 10.0]  finished=2  remaining=0\n",
      "[, Field truck 1] All tasks is finished : position=[10.0, 10.0]\n",
      "[Time 120, Field truck 2] Moving to the Warehouse (30) : position=[-0.2, -0.2]  carry=10\n",
      "[Time 120, Warehouse truck 1] Moving to the Warehouse (30) : position=[-5.0, -5.0]  carry=0\n",
      "[Time 121, Field truck 2] Moving to the Warehouse (30) : position=[-0.8, -0.8]  carry=10\n",
      "[Time 121, Warehouse truck 1] Moving to the Warehouse (30) : position=[-5.0, -5.0]  carry=0\n",
      "[Time 122, Field truck 2] Moving to the Warehouse (30) : position=[-1.4, -1.4]  carry=10\n"
     ]
    },
    {
     "name": "stdout",
     "output_type": "stream",
     "text": [
      "[Time 122, Warehouse truck 1] Waiting for more resources to gather : position=[-5.0, -5.0]  carry=0  present_cargo=30  min_carg0=40\n",
      "[Time 123, Field truck 2] Moving to the Warehouse (30) : position=[-2.0, -2.0]  carry=10\n",
      "[Time 123, Warehouse truck 1] Waiting for more resources to gather : position=[-5.0, -5.0]  carry=0  present_cargo=30  min_carg0=40\n",
      "[Time 124, Field truck 2] Moving to the Warehouse (30) : position=[-2.6, -2.6]  carry=10\n",
      "[Time 124, Warehouse truck 1] Waiting for more resources to gather : position=[-5.0, -5.0]  carry=0  present_cargo=30  min_carg0=40\n",
      "[Time 125, Field truck 2] Moving to the Warehouse (30) : position=[-3.2, -3.2]  carry=10\n",
      "[Time 125, Warehouse truck 1] Waiting for more resources to gather : position=[-5.0, -5.0]  carry=0  present_cargo=30  min_carg0=40\n",
      "[Time 126, Field truck 2] Moving to the Warehouse (30) : position=[-3.8, -3.8]  carry=10\n",
      "[Time 126, Warehouse truck 1] Waiting for more resources to gather : position=[-5.0, -5.0]  carry=0  present_cargo=30  min_carg0=40\n",
      "[Time 127, Field truck 2] Moving to the Warehouse (30) : position=[-4.4, -4.4]  carry=10\n",
      "[Time 127, Warehouse truck 1] Waiting for more resources to gather : position=[-5.0, -5.0]  carry=0  present_cargo=30  min_carg0=40\n",
      "[Time 128, Field truck 2] Moving to the Warehouse (30) : position=[-5.0, -5.0]  carry=10\n",
      "[Time 128, Warehouse truck 1] Waiting for more resources to gather : position=[-5.0, -5.0]  carry=0  present_cargo=30  min_carg0=40\n",
      "[Time 129, Field truck 2] Unloading the cargo : position=[-5.0, -5.0]  carry=0\n",
      "[Time 129, Field truck 2] Task completed - nothing more to load 2 : position=[-5.0, -5.0]  carry=10\n",
      "[, Field truck 2] Task is finished : position=[-5.0, -5.0]  finished=2  remaining=0\n",
      "[, Field truck 2] All tasks is finished : position=[-5.0, -5.0]\n",
      "[Time 129, Warehouse truck 1] Loading : position=[-5.0, -5.0]  carry=40\n",
      "[Time 130, Warehouse truck 1] Moving to the Warehouse (100) : position=[-5.8, -5.8]  carry=40\n",
      "[Time 131, Warehouse truck 1] Moving to the Warehouse (100) : position=[-6.7, -6.7]  carry=40\n",
      "[Time 132, Warehouse truck 1] Moving to the Warehouse (100) : position=[-7.5, -7.5]  carry=40\n",
      "[Time 133, Warehouse truck 1] Moving to the Warehouse (100) : position=[-8.3, -8.3]  carry=40\n",
      "[Time 134, Warehouse truck 1] Moving to the Warehouse (100) : position=[-9.2, -9.2]  carry=40\n",
      "[Time 135, Warehouse truck 1] Moving to the Warehouse (100) : position=[-10.0, -10.0]  carry=40\n",
      "[Time 136, Warehouse truck 1] Moving to the Warehouse (100) : position=[-10.8, -10.8]  carry=40\n",
      "[Time 137, Warehouse truck 1] Moving to the Warehouse (100) : position=[-11.7, -11.7]  carry=40\n",
      "[Time 138, Warehouse truck 1] Moving to the Warehouse (100) : position=[-12.5, -12.5]  carry=40\n",
      "[Time 139, Warehouse truck 1] Moving to the Warehouse (100) : position=[-13.3, -13.3]  carry=40\n",
      "[Time 140, Warehouse truck 1] Moving to the Warehouse (100) : position=[-14.2, -14.2]  carry=40\n",
      "[Time 141, Warehouse truck 1] Moving to the Warehouse (100) : position=[-15.0, -15.0]  carry=40\n",
      "[Time 142, Warehouse truck 1] Moving to the Warehouse (100) : position=[-15.8, -15.8]  carry=40\n",
      "[Time 143, Warehouse truck 1] Moving to the Warehouse (100) : position=[-16.6, -16.6]  carry=40\n",
      "[Time 144, Warehouse truck 1] Moving to the Warehouse (100) : position=[-17.5, -17.5]  carry=40\n",
      "[Time 145, Warehouse truck 1] Moving to the Warehouse (100) : position=[-18.3, -18.3]  carry=40\n",
      "[Time 146, Warehouse truck 1] Moving to the Warehouse (100) : position=[-19.1, -19.1]  carry=40\n",
      "[Time 147, Warehouse truck 1] Moving to the Warehouse (100) : position=[-20.0, -20.0]  carry=40\n",
      "[Time 148, Warehouse truck 1] Moving to the Warehouse (100) : position=[-20.0, -20.0]  carry=40\n",
      "[Time 149, Warehouse truck 1] Unloading the cargo : position=[-20.0, -20.0]  carry=0\n",
      "[Time 149, Warehouse truck 1] Task completed - nothing more to load 2 : position=[-20.0, -20.0]  carry=40\n",
      "[, Warehouse truck 1] Task is finished : position=[-20.0, -20.0]  finished=1  remaining=0\n",
      "[, Warehouse truck 1] All tasks is finished : position=[-20.0, -20.0]\n"
     ]
    },
    {
     "data": {
      "text/plain": [
       "{'simulation_steps': 149,\n",
       " 'total_work_steps': 395,\n",
       " 'transport_steps': [119, 128, 148]}"
      ]
     },
     "execution_count": 7,
     "metadata": {},
     "output_type": "execute_result"
    }
   ],
   "source": [
    "simulation.make_animation = False\n",
    "simulation.make_turns()"
   ]
  },
  {
   "cell_type": "code",
   "execution_count": 8,
   "metadata": {},
   "outputs": [
    {
     "data": {
      "text/plain": [
       "[119, 128, 148]"
      ]
     },
     "execution_count": 8,
     "metadata": {},
     "output_type": "execute_result"
    }
   ],
   "source": [
    "# Number of time steps for transport1, transport2, transport3\n",
    "simulation.completed"
   ]
  },
  {
   "cell_type": "code",
   "execution_count": 9,
   "metadata": {},
   "outputs": [
    {
     "data": {
      "text/plain": [
       "(0, 0, 140, 0)"
      ]
     },
     "execution_count": 9,
     "metadata": {},
     "output_type": "execute_result"
    }
   ],
   "source": [
    "# Resources for particular places\n",
    "field1.resources, field2.resources, final_warehouse.resources, inter_warehouse.resources"
   ]
  },
  {
   "cell_type": "code",
   "execution_count": 10,
   "metadata": {},
   "outputs": [
    {
     "data": {
      "text/plain": [
       "(True, True, True)"
      ]
     },
     "execution_count": 10,
     "metadata": {},
     "output_type": "execute_result"
    }
   ],
   "source": [
    "# Tasks status\n",
    "field1_to_warehouse_task.completed, field2_to_warehouse_task.completed, warehouse_to_warehouse.completed"
   ]
  },
  {
   "cell_type": "code",
   "execution_count": 11,
   "metadata": {},
   "outputs": [
    {
     "data": {
      "text/plain": [
       "(0, 0, 0)"
      ]
     },
     "execution_count": 11,
     "metadata": {},
     "output_type": "execute_result"
    }
   ],
   "source": [
    "# Remaining cargo in the transports\n",
    "transporter1.loaded, transporter2.loaded, transporter3.loaded"
   ]
  },
  {
   "cell_type": "code",
   "execution_count": 12,
   "metadata": {},
   "outputs": [
    {
     "data": {
      "text/plain": [
       "149"
      ]
     },
     "execution_count": 12,
     "metadata": {},
     "output_type": "execute_result"
    }
   ],
   "source": [
    "# Total simulation time\n",
    "simulation.time"
   ]
  }
 ],
 "metadata": {
  "kernelspec": {
   "display_name": "Python 3",
   "language": "python",
   "name": "python3"
  },
  "language_info": {
   "codemirror_mode": {
    "name": "ipython",
    "version": 3
   },
   "file_extension": ".py",
   "mimetype": "text/x-python",
   "name": "python",
   "nbconvert_exporter": "python",
   "pygments_lexer": "ipython3",
   "version": "3.6.5"
  }
 },
 "nbformat": 4,
 "nbformat_minor": 2
}
