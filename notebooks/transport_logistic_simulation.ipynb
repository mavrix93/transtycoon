{
 "cells": [
  {
   "cell_type": "code",
   "execution_count": 1,
   "metadata": {},
   "outputs": [],
   "source": [
    "import sys\n",
    "\n",
    "sys.path.insert(0, \"..\")"
   ]
  },
  {
   "cell_type": "code",
   "execution_count": 2,
   "metadata": {},
   "outputs": [],
   "source": [
    "from transtycoon.entities import Field, Warehouse, Position, Transporter\n",
    "from transtycoon.simulation import OneWayGathering, Simulation\n",
    "from transtycoon.report import plot_objects"
   ]
  },
  {
   "cell_type": "code",
   "execution_count": 3,
   "metadata": {},
   "outputs": [],
   "source": [
    "log = False\n",
    "\n",
    "field1 = Field(Position(10, -10), 70, name=\"Field1\")\n",
    "field2 = Field(Position(-5, 20), 70, name=\"Field2\")\n",
    "inter_warehouse = Warehouse(Position(-5, 10))\n",
    "final_warehouse = Warehouse(Position(-20, 0))\n",
    "transporter1 = Transporter(Position(0, 0), speed=1, max_capacity=30, name=\"Field truck 1\", log=log)\n",
    "transporter2 = Transporter(Position(0, 0), speed=1, max_capacity=30, name=\"Field truck 2\", log=log)\n",
    "transporter3 = Transporter(Position(0, 0), speed=1, max_capacity=50, name=\"Warehouse truck 1\", log=log)"
   ]
  },
  {
   "cell_type": "code",
   "execution_count": 4,
   "metadata": {},
   "outputs": [],
   "source": [
    "field1_to_warehouse_task = OneWayGathering(gather_from=field1, deliver_to=inter_warehouse)\n",
    "field2_to_warehouse_task = OneWayGathering(gather_from=field2, deliver_to=inter_warehouse)\n",
    "warehouse_to_warehouse = OneWayGathering(gather_from=inter_warehouse,\n",
    "                                         deliver_to=final_warehouse,\n",
    "                                         wait_for=[transporter1, transporter2],\n",
    "                                        min_amount=40)\n",
    "\n",
    "transporter1.assign_task_queue([field1_to_warehouse_task, field2_to_warehouse_task])\n",
    "transporter2.assign_task_queue([field2_to_warehouse_task, field1_to_warehouse_task])\n",
    "transporter3.assign_task_queue([warehouse_to_warehouse])"
   ]
  },
  {
   "cell_type": "code",
   "execution_count": 5,
   "metadata": {},
   "outputs": [],
   "source": [
    "animate_objects = {\"warehouses\": [inter_warehouse, final_warehouse],\n",
    "                   \"transports\": [transporter1, transporter2, transporter3],\n",
    "                   \"fields\": [field1, field2]\n",
    "                  }\n",
    "simulation = Simulation(transports=[transporter1, transporter2, transporter3], captured_objects=animate_objects)"
   ]
  },
  {
   "cell_type": "code",
   "execution_count": 6,
   "metadata": {},
   "outputs": [
    {
     "name": "stderr",
     "output_type": "stream",
     "text": [
      "/usr/local/lib/python3.6/site-packages/matplotlib/pyplot.py:524: RuntimeWarning: More than 20 figures have been opened. Figures created through the pyplot interface (`matplotlib.pyplot.figure`) are retained until explicitly closed and may consume too much memory. (To control this warning, see the rcParam `figure.max_open_warning`).\n",
      "  max_open_warning, RuntimeWarning)\n"
     ]
    },
    {
     "name": "stdout",
     "output_type": "stream",
     "text": [
      "Video created at .simulation/12c3e61e21784240ba46d6b303bce04d/animation.avi\n"
     ]
    },
    {
     "data": {
      "text/plain": [
       "{'simulation_steps': 149,\n",
       " 'total_work_steps': 395,\n",
       " 'transport_steps': [119, 128, 148]}"
      ]
     },
     "execution_count": 6,
     "metadata": {},
     "output_type": "execute_result"
    }
   ],
   "source": [
    "simulation.make_turns()"
   ]
  }
 ],
 "metadata": {
  "kernelspec": {
   "display_name": "Python 3",
   "language": "python",
   "name": "python3"
  },
  "language_info": {
   "codemirror_mode": {
    "name": "ipython",
    "version": 3
   },
   "file_extension": ".py",
   "mimetype": "text/x-python",
   "name": "python",
   "nbconvert_exporter": "python",
   "pygments_lexer": "ipython3",
   "version": "3.6.5"
  }
 },
 "nbformat": 4,
 "nbformat_minor": 2
}
